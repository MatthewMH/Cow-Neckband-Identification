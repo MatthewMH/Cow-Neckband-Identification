{
 "cells": [
  {
   "cell_type": "code",
   "execution_count": 1,
   "id": "6418cdc2",
   "metadata": {},
   "outputs": [],
   "source": [
    "import numpy as np\n",
    "import pandas as pd\n",
    "import matplotlib.pyplot as plt\n",
    "from PIL import Image\n",
    "from skimage import color\n",
    "from skimage.feature import hog\n",
    "from skimage import data, exposure\n",
    "from tqdm import tqdm"
   ]
  },
  {
   "cell_type": "markdown",
   "id": "872213ed",
   "metadata": {},
   "source": [
    "# Dataset"
   ]
  },
  {
   "cell_type": "markdown",
   "id": "0bb4454d",
   "metadata": {},
   "source": [
    "Dataset yang digunakan memiliki format CSV dengan data yang ditampung adalah nama gambar dan kelasnya. Dataset ini dibuat dengan sebelumnya membuat dataset CSV setiap kelas dengan format yang serupa. Program dibawah ini digunakan untuk membuat CSV dari gambar kelas 5 dengan format dataframe yaitu image yang menampung nama gambar dan class yang menyatakan kelas."
   ]
  },
  {
   "cell_type": "markdown",
   "id": "e693922a",
   "metadata": {},
   "source": [
    "from PIL import Image\n",
    "import os\n",
    "import pandas as pd\n",
    "\n",
    "image_class_1 = []\n",
    "\n",
    "for i in range(2, len(os.listdir(os.getcwd()))):\n",
    "    image_class_1.append(os.listdir(os.getcwd())[i])\n",
    "\n",
    "data_class_1 = pd.DataFrame({'image' : image_class_1})\n",
    "data_class_1['class'] = 5\n",
    "\n",
    "data_class_1.to_csv('data_class_5.csv', index = False)"
   ]
  },
  {
   "cell_type": "markdown",
   "id": "51284e6e",
   "metadata": {},
   "source": [
    "Hasil CSV kelas 5 ini kemudian akan digabungkan dengan hasil CSV kelas lainnya menjadi 1 buah CSV utama yang akan digunakan sebagai dataset."
   ]
  },
  {
   "cell_type": "code",
   "execution_count": 2,
   "id": "5f4c006c",
   "metadata": {},
   "outputs": [],
   "source": [
    "data = pd.read_csv('cow_neckband_image.csv')"
   ]
  },
  {
   "cell_type": "code",
   "execution_count": 3,
   "id": "6c77b05d",
   "metadata": {},
   "outputs": [
    {
     "data": {
      "text/html": [
       "<div>\n",
       "<style scoped>\n",
       "    .dataframe tbody tr th:only-of-type {\n",
       "        vertical-align: middle;\n",
       "    }\n",
       "\n",
       "    .dataframe tbody tr th {\n",
       "        vertical-align: top;\n",
       "    }\n",
       "\n",
       "    .dataframe thead th {\n",
       "        text-align: right;\n",
       "    }\n",
       "</style>\n",
       "<table border=\"1\" class=\"dataframe\">\n",
       "  <thead>\n",
       "    <tr style=\"text-align: right;\">\n",
       "      <th></th>\n",
       "      <th>image</th>\n",
       "      <th>class</th>\n",
       "    </tr>\n",
       "  </thead>\n",
       "  <tbody>\n",
       "    <tr>\n",
       "      <th>0</th>\n",
       "      <td>WA01_2015_10_1_16_22_15_253889_id1.bmp</td>\n",
       "      <td>1</td>\n",
       "    </tr>\n",
       "    <tr>\n",
       "      <th>1</th>\n",
       "      <td>WA01_2015_10_1_16_22_15_253889_id10.bmp</td>\n",
       "      <td>1</td>\n",
       "    </tr>\n",
       "    <tr>\n",
       "      <th>2</th>\n",
       "      <td>WA01_2015_10_1_16_22_15_253889_id11.bmp</td>\n",
       "      <td>1</td>\n",
       "    </tr>\n",
       "    <tr>\n",
       "      <th>3</th>\n",
       "      <td>WA01_2015_10_1_16_22_15_253889_id2.bmp</td>\n",
       "      <td>1</td>\n",
       "    </tr>\n",
       "    <tr>\n",
       "      <th>4</th>\n",
       "      <td>WA01_2015_10_1_16_22_15_253889_id3.bmp</td>\n",
       "      <td>1</td>\n",
       "    </tr>\n",
       "    <tr>\n",
       "      <th>...</th>\n",
       "      <td>...</td>\n",
       "      <td>...</td>\n",
       "    </tr>\n",
       "    <tr>\n",
       "      <th>1943</th>\n",
       "      <td>WA08_2016_10_2_8_51_15_737651_id6.bmp</td>\n",
       "      <td>8</td>\n",
       "    </tr>\n",
       "    <tr>\n",
       "      <th>1944</th>\n",
       "      <td>WA08_2016_10_4_21_34_21_735098_id3.bmp</td>\n",
       "      <td>8</td>\n",
       "    </tr>\n",
       "    <tr>\n",
       "      <th>1945</th>\n",
       "      <td>WA08_2016_10_8_7_11_55_440456_id1.bmp</td>\n",
       "      <td>8</td>\n",
       "    </tr>\n",
       "    <tr>\n",
       "      <th>1946</th>\n",
       "      <td>WA08_2016_10_8_7_11_55_440456_id2.bmp</td>\n",
       "      <td>8</td>\n",
       "    </tr>\n",
       "    <tr>\n",
       "      <th>1947</th>\n",
       "      <td>WA08_2016_10_9_11_11_18_331387_id7.bmp</td>\n",
       "      <td>8</td>\n",
       "    </tr>\n",
       "  </tbody>\n",
       "</table>\n",
       "<p>1948 rows × 2 columns</p>\n",
       "</div>"
      ],
      "text/plain": [
       "                                        image  class\n",
       "0      WA01_2015_10_1_16_22_15_253889_id1.bmp      1\n",
       "1     WA01_2015_10_1_16_22_15_253889_id10.bmp      1\n",
       "2     WA01_2015_10_1_16_22_15_253889_id11.bmp      1\n",
       "3      WA01_2015_10_1_16_22_15_253889_id2.bmp      1\n",
       "4      WA01_2015_10_1_16_22_15_253889_id3.bmp      1\n",
       "...                                       ...    ...\n",
       "1943    WA08_2016_10_2_8_51_15_737651_id6.bmp      8\n",
       "1944   WA08_2016_10_4_21_34_21_735098_id3.bmp      8\n",
       "1945    WA08_2016_10_8_7_11_55_440456_id1.bmp      8\n",
       "1946    WA08_2016_10_8_7_11_55_440456_id2.bmp      8\n",
       "1947   WA08_2016_10_9_11_11_18_331387_id7.bmp      8\n",
       "\n",
       "[1948 rows x 2 columns]"
      ]
     },
     "execution_count": 3,
     "metadata": {},
     "output_type": "execute_result"
    }
   ],
   "source": [
    "data"
   ]
  },
  {
   "cell_type": "code",
   "execution_count": 4,
   "id": "bfbca087",
   "metadata": {},
   "outputs": [],
   "source": [
    "labels = data['class']"
   ]
  },
  {
   "cell_type": "markdown",
   "id": "5fb09b1e",
   "metadata": {},
   "source": [
    "# Data Preprocessing"
   ]
  },
  {
   "cell_type": "code",
   "execution_count": null,
   "id": "38a77bcf",
   "metadata": {},
   "outputs": [],
   "source": []
  },
  {
   "cell_type": "markdown",
   "id": "f8d22627",
   "metadata": {},
   "source": [
    "## Change BMP to Grayscale"
   ]
  },
  {
   "cell_type": "code",
   "execution_count": 5,
   "id": "b0e1b73d",
   "metadata": {},
   "outputs": [
    {
     "name": "stderr",
     "output_type": "stream",
     "text": [
      "100%|██████████████████████████████████████████████████████████████████████████████| 1948/1948 [01:34<00:00, 20.56it/s]\n"
     ]
    }
   ],
   "source": [
    "data_gray = []\n",
    "\n",
    "for i in tqdm(data['image']):\n",
    "    data_gray.append(color.rgb2gray(np.array(Image.open(i).convert('RGB'))))"
   ]
  },
  {
   "cell_type": "code",
   "execution_count": 6,
   "id": "7363b163",
   "metadata": {},
   "outputs": [
    {
     "data": {
      "text/plain": [
       "<matplotlib.image.AxesImage at 0x1ee81d102b0>"
      ]
     },
     "execution_count": 6,
     "metadata": {},
     "output_type": "execute_result"
    },
    {
     "data": {
      "image/png": "[encoded data removed]",
      "text/plain": [
       "<Figure size 432x288 with 1 Axes>"
      ]
     },
     "metadata": {
      "needs_background": "light"
     },
     "output_type": "display_data"
    }
   ],
   "source": [
    "plt.imshow(data_gray[25])"
   ]
  },
  {
   "cell_type": "markdown",
   "id": "ee3bb681",
   "metadata": {},
   "source": [
    "## Histogram of Oriented Gradient"
   ]
  },
  {
   "cell_type": "code",
   "execution_count": 7,
   "id": "f69520d3",
   "metadata": {},
   "outputs": [
    {
     "name": "stderr",
     "output_type": "stream",
     "text": [
      "100%|██████████████████████████████████████████████████████████████████████████████| 1948/1948 [11:13<00:00,  2.89it/s]\n"
     ]
    }
   ],
   "source": [
    "ppc = 16\n",
    "hog_features = []\n",
    "\n",
    "for image in tqdm(data_gray):\n",
    "    fd = hog(image, orientations=8, pixels_per_cell=(ppc,ppc),cells_per_block=(1, 1), visualize = False)\n",
    "    hog_features.append(fd)"
   ]
  },
  {
   "cell_type": "code",
   "execution_count": 8,
   "id": "78744975",
   "metadata": {},
   "outputs": [],
   "source": [
    "hog_features = np.array(hog_features)\n",
    "hog_features_dataframe = pd.concat([pd.DataFrame(hog_features), labels], axis = 1)"
   ]
  },
  {
   "cell_type": "code",
   "execution_count": 9,
   "id": "118a4b10",
   "metadata": {},
   "outputs": [
    {
     "data": {
      "text/html": [
       "<div>\n",
       "<style scoped>\n",
       "    .dataframe tbody tr th:only-of-type {\n",
       "        vertical-align: middle;\n",
       "    }\n",
       "\n",
       "    .dataframe tbody tr th {\n",
       "        vertical-align: top;\n",
       "    }\n",
       "\n",
       "    .dataframe thead th {\n",
       "        text-align: right;\n",
       "    }\n",
       "</style>\n",
       "<table border=\"1\" class=\"dataframe\">\n",
       "  <thead>\n",
       "    <tr style=\"text-align: right;\">\n",
       "      <th></th>\n",
       "      <th>0</th>\n",
       "      <th>1</th>\n",
       "      <th>2</th>\n",
       "      <th>3</th>\n",
       "      <th>4</th>\n",
       "      <th>5</th>\n",
       "      <th>6</th>\n",
       "      <th>7</th>\n",
       "      <th>8</th>\n",
       "      <th>9</th>\n",
       "      <th>...</th>\n",
       "      <th>38391</th>\n",
       "      <th>38392</th>\n",
       "      <th>38393</th>\n",
       "      <th>38394</th>\n",
       "      <th>38395</th>\n",
       "      <th>38396</th>\n",
       "      <th>38397</th>\n",
       "      <th>38398</th>\n",
       "      <th>38399</th>\n",
       "      <th>class</th>\n",
       "    </tr>\n",
       "  </thead>\n",
       "  <tbody>\n",
       "    <tr>\n",
       "      <th>0</th>\n",
       "      <td>0.501765</td>\n",
       "      <td>0.386377</td>\n",
       "      <td>0.262521</td>\n",
       "      <td>0.043766</td>\n",
       "      <td>0.169522</td>\n",
       "      <td>0.199817</td>\n",
       "      <td>0.455718</td>\n",
       "      <td>0.501765</td>\n",
       "      <td>0.353553</td>\n",
       "      <td>0.353553</td>\n",
       "      <td>...</td>\n",
       "      <td>0.361389</td>\n",
       "      <td>0.353553</td>\n",
       "      <td>0.353553</td>\n",
       "      <td>0.353553</td>\n",
       "      <td>0.353553</td>\n",
       "      <td>0.353553</td>\n",
       "      <td>0.353553</td>\n",
       "      <td>0.353553</td>\n",
       "      <td>0.353553</td>\n",
       "      <td>1</td>\n",
       "    </tr>\n",
       "    <tr>\n",
       "      <th>1</th>\n",
       "      <td>0.503229</td>\n",
       "      <td>0.497160</td>\n",
       "      <td>0.081575</td>\n",
       "      <td>0.116340</td>\n",
       "      <td>0.199857</td>\n",
       "      <td>0.170397</td>\n",
       "      <td>0.396467</td>\n",
       "      <td>0.503229</td>\n",
       "      <td>0.353553</td>\n",
       "      <td>0.353553</td>\n",
       "      <td>...</td>\n",
       "      <td>0.363345</td>\n",
       "      <td>0.366451</td>\n",
       "      <td>0.366451</td>\n",
       "      <td>0.366451</td>\n",
       "      <td>0.244941</td>\n",
       "      <td>0.366451</td>\n",
       "      <td>0.366451</td>\n",
       "      <td>0.366451</td>\n",
       "      <td>0.366451</td>\n",
       "      <td>1</td>\n",
       "    </tr>\n",
       "    <tr>\n",
       "      <th>2</th>\n",
       "      <td>0.492430</td>\n",
       "      <td>0.492430</td>\n",
       "      <td>0.165620</td>\n",
       "      <td>0.106980</td>\n",
       "      <td>0.200174</td>\n",
       "      <td>0.176369</td>\n",
       "      <td>0.403099</td>\n",
       "      <td>0.492430</td>\n",
       "      <td>0.353553</td>\n",
       "      <td>0.353553</td>\n",
       "      <td>...</td>\n",
       "      <td>0.357789</td>\n",
       "      <td>0.353842</td>\n",
       "      <td>0.353842</td>\n",
       "      <td>0.351529</td>\n",
       "      <td>0.353842</td>\n",
       "      <td>0.353842</td>\n",
       "      <td>0.353842</td>\n",
       "      <td>0.353842</td>\n",
       "      <td>0.353842</td>\n",
       "      <td>1</td>\n",
       "    </tr>\n",
       "    <tr>\n",
       "      <th>3</th>\n",
       "      <td>0.478784</td>\n",
       "      <td>0.478784</td>\n",
       "      <td>0.105959</td>\n",
       "      <td>0.043344</td>\n",
       "      <td>0.203028</td>\n",
       "      <td>0.169516</td>\n",
       "      <td>0.478784</td>\n",
       "      <td>0.478784</td>\n",
       "      <td>0.353553</td>\n",
       "      <td>0.353553</td>\n",
       "      <td>...</td>\n",
       "      <td>0.354306</td>\n",
       "      <td>0.370172</td>\n",
       "      <td>0.370172</td>\n",
       "      <td>0.370172</td>\n",
       "      <td>0.370172</td>\n",
       "      <td>0.370172</td>\n",
       "      <td>0.370172</td>\n",
       "      <td>0.251628</td>\n",
       "      <td>0.338409</td>\n",
       "      <td>1</td>\n",
       "    </tr>\n",
       "    <tr>\n",
       "      <th>4</th>\n",
       "      <td>0.492818</td>\n",
       "      <td>0.425877</td>\n",
       "      <td>0.113888</td>\n",
       "      <td>0.157441</td>\n",
       "      <td>0.160812</td>\n",
       "      <td>0.162488</td>\n",
       "      <td>0.492818</td>\n",
       "      <td>0.492818</td>\n",
       "      <td>0.353553</td>\n",
       "      <td>0.353553</td>\n",
       "      <td>...</td>\n",
       "      <td>0.353553</td>\n",
       "      <td>0.358815</td>\n",
       "      <td>0.358815</td>\n",
       "      <td>0.358815</td>\n",
       "      <td>0.358815</td>\n",
       "      <td>0.358815</td>\n",
       "      <td>0.358815</td>\n",
       "      <td>0.314268</td>\n",
       "      <td>0.358815</td>\n",
       "      <td>1</td>\n",
       "    </tr>\n",
       "    <tr>\n",
       "      <th>...</th>\n",
       "      <td>...</td>\n",
       "      <td>...</td>\n",
       "      <td>...</td>\n",
       "      <td>...</td>\n",
       "      <td>...</td>\n",
       "      <td>...</td>\n",
       "      <td>...</td>\n",
       "      <td>...</td>\n",
       "      <td>...</td>\n",
       "      <td>...</td>\n",
       "      <td>...</td>\n",
       "      <td>...</td>\n",
       "      <td>...</td>\n",
       "      <td>...</td>\n",
       "      <td>...</td>\n",
       "      <td>...</td>\n",
       "      <td>...</td>\n",
       "      <td>...</td>\n",
       "      <td>...</td>\n",
       "      <td>...</td>\n",
       "      <td>...</td>\n",
       "    </tr>\n",
       "    <tr>\n",
       "      <th>1943</th>\n",
       "      <td>0.355194</td>\n",
       "      <td>0.341852</td>\n",
       "      <td>0.355194</td>\n",
       "      <td>0.355194</td>\n",
       "      <td>0.355194</td>\n",
       "      <td>0.355194</td>\n",
       "      <td>0.355194</td>\n",
       "      <td>0.355194</td>\n",
       "      <td>0.354385</td>\n",
       "      <td>0.347680</td>\n",
       "      <td>...</td>\n",
       "      <td>0.000000</td>\n",
       "      <td>0.000000</td>\n",
       "      <td>0.000000</td>\n",
       "      <td>0.000000</td>\n",
       "      <td>0.000000</td>\n",
       "      <td>0.000000</td>\n",
       "      <td>0.000000</td>\n",
       "      <td>0.000000</td>\n",
       "      <td>0.000000</td>\n",
       "      <td>8</td>\n",
       "    </tr>\n",
       "    <tr>\n",
       "      <th>1944</th>\n",
       "      <td>0.352697</td>\n",
       "      <td>0.368670</td>\n",
       "      <td>0.368670</td>\n",
       "      <td>0.368670</td>\n",
       "      <td>0.368670</td>\n",
       "      <td>0.368670</td>\n",
       "      <td>0.368670</td>\n",
       "      <td>0.245149</td>\n",
       "      <td>0.354384</td>\n",
       "      <td>0.347681</td>\n",
       "      <td>...</td>\n",
       "      <td>0.353553</td>\n",
       "      <td>0.353553</td>\n",
       "      <td>0.353553</td>\n",
       "      <td>0.353553</td>\n",
       "      <td>0.353553</td>\n",
       "      <td>0.353553</td>\n",
       "      <td>0.353553</td>\n",
       "      <td>0.353553</td>\n",
       "      <td>0.353553</td>\n",
       "      <td>8</td>\n",
       "    </tr>\n",
       "    <tr>\n",
       "      <th>1945</th>\n",
       "      <td>0.355034</td>\n",
       "      <td>0.355034</td>\n",
       "      <td>0.355034</td>\n",
       "      <td>0.355034</td>\n",
       "      <td>0.355034</td>\n",
       "      <td>0.355034</td>\n",
       "      <td>0.355034</td>\n",
       "      <td>0.343013</td>\n",
       "      <td>0.354741</td>\n",
       "      <td>0.345127</td>\n",
       "      <td>...</td>\n",
       "      <td>0.000000</td>\n",
       "      <td>0.000000</td>\n",
       "      <td>0.000000</td>\n",
       "      <td>0.000000</td>\n",
       "      <td>0.000000</td>\n",
       "      <td>0.000000</td>\n",
       "      <td>0.000000</td>\n",
       "      <td>0.000000</td>\n",
       "      <td>0.000000</td>\n",
       "      <td>8</td>\n",
       "    </tr>\n",
       "    <tr>\n",
       "      <th>1946</th>\n",
       "      <td>0.353962</td>\n",
       "      <td>0.353962</td>\n",
       "      <td>0.350679</td>\n",
       "      <td>0.353962</td>\n",
       "      <td>0.353962</td>\n",
       "      <td>0.353962</td>\n",
       "      <td>0.353962</td>\n",
       "      <td>0.353962</td>\n",
       "      <td>0.353553</td>\n",
       "      <td>0.353553</td>\n",
       "      <td>...</td>\n",
       "      <td>0.000000</td>\n",
       "      <td>0.000000</td>\n",
       "      <td>0.000000</td>\n",
       "      <td>0.000000</td>\n",
       "      <td>0.000000</td>\n",
       "      <td>0.000000</td>\n",
       "      <td>0.000000</td>\n",
       "      <td>0.000000</td>\n",
       "      <td>0.000000</td>\n",
       "      <td>8</td>\n",
       "    </tr>\n",
       "    <tr>\n",
       "      <th>1947</th>\n",
       "      <td>0.353553</td>\n",
       "      <td>0.353553</td>\n",
       "      <td>0.353553</td>\n",
       "      <td>0.353553</td>\n",
       "      <td>0.353553</td>\n",
       "      <td>0.353553</td>\n",
       "      <td>0.353553</td>\n",
       "      <td>0.353553</td>\n",
       "      <td>0.353553</td>\n",
       "      <td>0.353553</td>\n",
       "      <td>...</td>\n",
       "      <td>0.000000</td>\n",
       "      <td>0.000000</td>\n",
       "      <td>0.000000</td>\n",
       "      <td>0.000000</td>\n",
       "      <td>0.000000</td>\n",
       "      <td>0.000000</td>\n",
       "      <td>0.000000</td>\n",
       "      <td>0.000000</td>\n",
       "      <td>0.000000</td>\n",
       "      <td>8</td>\n",
       "    </tr>\n",
       "  </tbody>\n",
       "</table>\n",
       "<p>1948 rows × 38401 columns</p>\n",
       "</div>"
      ],
      "text/plain": [
       "             0         1         2         3         4         5         6  \\\n",
       "0     0.501765  0.386377  0.262521  0.043766  0.169522  0.199817  0.455718   \n",
       "1     0.503229  0.497160  0.081575  0.116340  0.199857  0.170397  0.396467   \n",
       "2     0.492430  0.492430  0.165620  0.106980  0.200174  0.176369  0.403099   \n",
       "3     0.478784  0.478784  0.105959  0.043344  0.203028  0.169516  0.478784   \n",
       "4     0.492818  0.425877  0.113888  0.157441  0.160812  0.162488  0.492818   \n",
       "...        ...       ...       ...       ...       ...       ...       ...   \n",
       "1943  0.355194  0.341852  0.355194  0.355194  0.355194  0.355194  0.355194   \n",
       "1944  0.352697  0.368670  0.368670  0.368670  0.368670  0.368670  0.368670   \n",
       "1945  0.355034  0.355034  0.355034  0.355034  0.355034  0.355034  0.355034   \n",
       "1946  0.353962  0.353962  0.350679  0.353962  0.353962  0.353962  0.353962   \n",
       "1947  0.353553  0.353553  0.353553  0.353553  0.353553  0.353553  0.353553   \n",
       "\n",
       "             7         8         9  ...     38391     38392     38393  \\\n",
       "0     0.501765  0.353553  0.353553  ...  0.361389  0.353553  0.353553   \n",
       "1     0.503229  0.353553  0.353553  ...  0.363345  0.366451  0.366451   \n",
       "2     0.492430  0.353553  0.353553  ...  0.357789  0.353842  0.353842   \n",
       "3     0.478784  0.353553  0.353553  ...  0.354306  0.370172  0.370172   \n",
       "4     0.492818  0.353553  0.353553  ...  0.353553  0.358815  0.358815   \n",
       "...        ...       ...       ...  ...       ...       ...       ...   \n",
       "1943  0.355194  0.354385  0.347680  ...  0.000000  0.000000  0.000000   \n",
       "1944  0.245149  0.354384  0.347681  ...  0.353553  0.353553  0.353553   \n",
       "1945  0.343013  0.354741  0.345127  ...  0.000000  0.000000  0.000000   \n",
       "1946  0.353962  0.353553  0.353553  ...  0.000000  0.000000  0.000000   \n",
       "1947  0.353553  0.353553  0.353553  ...  0.000000  0.000000  0.000000   \n",
       "\n",
       "         38394     38395     38396     38397     38398     38399  class  \n",
       "0     0.353553  0.353553  0.353553  0.353553  0.353553  0.353553      1  \n",
       "1     0.366451  0.244941  0.366451  0.366451  0.366451  0.366451      1  \n",
       "2     0.351529  0.353842  0.353842  0.353842  0.353842  0.353842      1  \n",
       "3     0.370172  0.370172  0.370172  0.370172  0.251628  0.338409      1  \n",
       "4     0.358815  0.358815  0.358815  0.358815  0.314268  0.358815      1  \n",
       "...        ...       ...       ...       ...       ...       ...    ...  \n",
       "1943  0.000000  0.000000  0.000000  0.000000  0.000000  0.000000      8  \n",
       "1944  0.353553  0.353553  0.353553  0.353553  0.353553  0.353553      8  \n",
       "1945  0.000000  0.000000  0.000000  0.000000  0.000000  0.000000      8  \n",
       "1946  0.000000  0.000000  0.000000  0.000000  0.000000  0.000000      8  \n",
       "1947  0.000000  0.000000  0.000000  0.000000  0.000000  0.000000      8  \n",
       "\n",
       "[1948 rows x 38401 columns]"
      ]
     },
     "execution_count": 9,
     "metadata": {},
     "output_type": "execute_result"
    }
   ],
   "source": [
    "hog_features_dataframe"
   ]
  },
  {
   "cell_type": "markdown",
   "id": "0434e87c",
   "metadata": {},
   "source": [
    "# Modelling"
   ]
  },
  {
   "cell_type": "markdown",
   "id": "4af42cdc",
   "metadata": {},
   "source": [
    "## Train Test Split"
   ]
  },
  {
   "cell_type": "code",
   "execution_count": 10,
   "id": "1a0182ac",
   "metadata": {},
   "outputs": [],
   "source": [
    "from sklearn.model_selection import train_test_split\n",
    "\n",
    "train, test = train_test_split(hog_features_dataframe, test_size = 0.3)"
   ]
  },
  {
   "cell_type": "code",
   "execution_count": 11,
   "id": "e23a10e8",
   "metadata": {},
   "outputs": [
    {
     "data": {
      "text/plain": [
       "((1363, 38401), (585, 38401))"
      ]
     },
     "execution_count": 11,
     "metadata": {},
     "output_type": "execute_result"
    }
   ],
   "source": [
    "train.shape, test.shape"
   ]
  },
  {
   "cell_type": "code",
   "execution_count": 12,
   "id": "796ca015",
   "metadata": {},
   "outputs": [],
   "source": [
    "y_train = train['class']\n",
    "y_test = test['class']"
   ]
  },
  {
   "cell_type": "code",
   "execution_count": 13,
   "id": "7dc618dd",
   "metadata": {},
   "outputs": [
    {
     "name": "stderr",
     "output_type": "stream",
     "text": [
      "C:\\Users\\user\\anaconda3\\lib\\site-packages\\pandas\\core\\frame.py:4308: SettingWithCopyWarning: \n",
      "A value is trying to be set on a copy of a slice from a DataFrame\n",
      "\n",
      "See the caveats in the documentation: https://pandas.pydata.org/pandas-docs/stable/user_guide/indexing.html#returning-a-view-versus-a-copy\n",
      "  return super().drop(\n"
     ]
    }
   ],
   "source": [
    "train.drop(['class'], axis = 1, inplace = True)\n",
    "test.drop(['class'], axis = 1, inplace = True)"
   ]
  },
  {
   "cell_type": "markdown",
   "id": "0c4b79da",
   "metadata": {},
   "source": [
    "## Random Forest"
   ]
  },
  {
   "cell_type": "code",
   "execution_count": 14,
   "id": "42d590aa",
   "metadata": {},
   "outputs": [
    {
     "name": "stdout",
     "output_type": "stream",
     "text": [
      "Random Forest Accuracy Score :  0.8683760683760684\n",
      "Random Forest Confusion Matrix : \n",
      " [[102   0   0   1   0   1   5   5]\n",
      " [  0  77  12   0   2   2   1   3]\n",
      " [  0   1  89   1   5   2   1   5]\n",
      " [  0   0   0  55   0   0   0   0]\n",
      " [  1   0   0   2  39   3   2   6]\n",
      " [  0   0   0   0   1  47   0   1]\n",
      " [  0   0   0   1   2   0  54   2]\n",
      " [  0   2   2   4   0   1   0  45]]\n"
     ]
    }
   ],
   "source": [
    "from sklearn.ensemble import RandomForestClassifier\n",
    "from sklearn.metrics import accuracy_score, confusion_matrix\n",
    "\n",
    "rf = RandomForestClassifier()\n",
    "rf.fit(train, y_train)\n",
    "print(\"Random Forest Accuracy Score : \", accuracy_score(rf.predict(test), y_test))\n",
    "print(\"Random Forest Confusion Matrix : \\n\", confusion_matrix(rf.predict(test), y_test))"
   ]
  },
  {
   "cell_type": "markdown",
   "id": "1957834b",
   "metadata": {},
   "source": [
    "## Logistic Regression"
   ]
  },
  {
   "cell_type": "code",
   "execution_count": 15,
   "id": "54a06b7e",
   "metadata": {},
   "outputs": [
    {
     "name": "stderr",
     "output_type": "stream",
     "text": [
      "C:\\Users\\user\\anaconda3\\lib\\site-packages\\sklearn\\linear_model\\_logistic.py:763: ConvergenceWarning: lbfgs failed to converge (status=1):\n",
      "STOP: TOTAL NO. of ITERATIONS REACHED LIMIT.\n",
      "\n",
      "Increase the number of iterations (max_iter) or scale the data as shown in:\n",
      "    https://scikit-learn.org/stable/modules/preprocessing.html\n",
      "Please also refer to the documentation for alternative solver options:\n",
      "    https://scikit-learn.org/stable/modules/linear_model.html#logistic-regression\n",
      "  n_iter_i = _check_optimize_result(\n"
     ]
    },
    {
     "name": "stdout",
     "output_type": "stream",
     "text": [
      "Logistic Regression Accuracy Score :  0.9282051282051282\n",
      "Logistic Regression Confusion Matrix : \n",
      " [[102   0   0   0   0   0   0   2]\n",
      " [  0  75   4   0   1   2   0   0]\n",
      " [  0   2  97   1   1   0   2   2]\n",
      " [  0   0   0  59   1   0   0   1]\n",
      " [  0   1   0   1  43   0   1   4]\n",
      " [  0   1   0   0   1  52   1   1]\n",
      " [  0   0   0   2   2   0  59   1]\n",
      " [  1   1   2   1   0   2   0  56]]\n"
     ]
    }
   ],
   "source": [
    "from sklearn.linear_model import LogisticRegression\n",
    "from sklearn.metrics import accuracy_score\n",
    "\n",
    "logreg = LogisticRegression()\n",
    "logreg.fit(train, y_train)\n",
    "print(\"Logistic Regression Accuracy Score : \", accuracy_score(logreg.predict(test), y_test))\n",
    "print(\"Logistic Regression Confusion Matrix : \\n\", confusion_matrix(logreg.predict(test), y_test))"
   ]
  },
  {
   "cell_type": "code",
   "execution_count": 16,
   "id": "144b2152",
   "metadata": {},
   "outputs": [
    {
     "name": "stdout",
     "output_type": "stream",
     "text": [
      "KNN Accuracy Score :  0.8341880341880342\n",
      "KNN Confusion Matrix : \n",
      " [[103   0   1   1   3   3   4   6]\n",
      " [  0  64   5   0   0   4   0   1]\n",
      " [  0  12  96   0   1   2   0   2]\n",
      " [  0   0   0  56   2   2   4   2]\n",
      " [  0   1   1   0  35   3   3   5]\n",
      " [  0   1   0   0   4  39   4   2]\n",
      " [  0   2   0   5   3   3  48   2]\n",
      " [  0   0   0   2   1   0   0  47]]\n"
     ]
    }
   ],
   "source": [
    "from sklearn.neighbors import KNeighborsClassifier\n",
    "from sklearn.metrics import accuracy_score\n",
    "\n",
    "knn = KNeighborsClassifier()\n",
    "knn.fit(train, y_train)\n",
    "print(\"KNN Accuracy Score : \", accuracy_score(knn.predict(test), y_test))\n",
    "print(\"KNN Confusion Matrix : \\n\", confusion_matrix(knn.predict(test), y_test))"
   ]
  },
  {
   "cell_type": "markdown",
   "id": "b71dcc7e",
   "metadata": {},
   "source": [
    "## Voting Classifier (KNN, Random Forest, Logistic Regression)"
   ]
  }
 ],
 "metadata": {
  "kernelspec": {
   "display_name": "Python 3",
   "language": "python",
   "name": "python3"
  },
  "language_info": {
   "codemirror_mode": {
    "name": "ipython",
    "version": 3
   },
   "file_extension": ".py",
   "mimetype": "text/x-python",
   "name": "python",
   "nbconvert_exporter": "python",
   "pygments_lexer": "ipython3",
   "version": "3.8.8"
  }
 },
 "nbformat": 4,
 "nbformat_minor": 5
}
